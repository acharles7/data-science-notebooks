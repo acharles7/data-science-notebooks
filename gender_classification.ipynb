{
 "cells": [
  {
   "cell_type": "code",
   "execution_count": 38,
   "metadata": {},
   "outputs": [],
   "source": [
    "import collections\n",
    "from sklearn.ensemble import RandomForestClassifier\n",
    "from sklearn.metrics import accuracy_score\n",
    "import numpy\n",
    "import random\n",
    "from string import ascii_uppercase\n",
    "import pandas as pd\n"
   ]
  },
  {
   "cell_type": "code",
   "execution_count": 39,
   "metadata": {},
   "outputs": [
    {
     "name": "stdout",
     "output_type": "stream",
     "text": [
      "Male name list :  ['Aamir', 'Aaron', 'Abbey', 'Abbie', 'Abbot', 'Abbott', 'Abby', 'Abdel', 'Abdul', 'Abdulkarim']\n",
      "Female name list :  ['Abagael', 'Abagail', 'Abbe', 'Abbey', 'Abbi', 'Abbie', 'Abby', 'Abigael', 'Abigail', 'Abigale']\n"
     ]
    }
   ],
   "source": [
    "with open('data/male.txt','r') as min:\n",
    "    male_names = [name.strip('\\r\\n') for name in min.readlines()]\n",
    "with open('data/female.txt','r') as fin:\n",
    "    female_names = [name.strip('\\r\\n') for name in fin.readlines()]\n",
    "\n",
    "\n",
    "print(\"Male name list : \", [name for name in male_names[:10]])\n",
    "print(\"Female name list : \", [name for name in female_names[:10]])"
   ]
  },
  {
   "cell_type": "code",
   "execution_count": 40,
   "metadata": {},
   "outputs": [],
   "source": [
    "male_names = filter(str.isalpha, [str(m) for m in male_names])\n",
    "female_names = filter(str.isalpha, [str(f) for f in female_names])"
   ]
  },
  {
   "cell_type": "code",
   "execution_count": 41,
   "metadata": {},
   "outputs": [],
   "source": [
    "all_names = []\n",
    "for name in male_names:\n",
    "    all_names.append((name.upper(),'M'))\n",
    "for name in female_names:\n",
    "    all_names.append((name.upper(),'F'))"
   ]
  },
  {
   "cell_type": "code",
   "execution_count": 42,
   "metadata": {},
   "outputs": [
    {
     "name": "stdout",
     "output_type": "stream",
     "text": [
      "Male name list :  [('HALIMEDA', 'F'), ('HALLEY', 'F'), ('HALLI', 'F'), ('HALLIE', 'F'), ('HALLY', 'F'), ('HANA', 'F'), ('HANNA', 'F'), ('HANNAH', 'F'), ('HANNI', 'F'), ('HANNIBAL', 'F')]\n"
     ]
    }
   ],
   "source": [
    "print(\"Male name list : \", [name for name in all_names[5000:5010]])"
   ]
  },
  {
   "cell_type": "code",
   "execution_count": 43,
   "metadata": {},
   "outputs": [],
   "source": [
    "def one_hot_encoding(elses):\n",
    "    one_hot = {}\n",
    "    for i,l in enumerate(elses):\n",
    "    \n",
    "        bits = [0] *  len(elses)\n",
    "        bits[i] = 1\n",
    "        one_hot[l] = bits\n",
    "        #print(i,l)\n",
    "    #print(\"\\n\",one_hot)\n",
    "    return one_hot"
   ]
  },
  {
   "cell_type": "code",
   "execution_count": 44,
   "metadata": {},
   "outputs": [],
   "source": [
    "mono_alpha_hot = one_hot_encoding(ascii_uppercase)\n",
    "#print(mono_alpha_hot)"
   ]
  },
  {
   "cell_type": "code",
   "execution_count": 45,
   "metadata": {},
   "outputs": [],
   "source": [
    "# for a,b in enumerate(mono_hot):\n",
    "#     print(a,\":\",mono_hot[b])"
   ]
  },
  {
   "cell_type": "code",
   "execution_count": 46,
   "metadata": {},
   "outputs": [],
   "source": [
    "bi_alpha = [a+b for a in ascii_uppercase for b in ascii_uppercase]\n",
    "bi_alpha_hot = one_hot_encoding(bi_alpha)\n",
    "#print(bi_alpha)"
   ]
  },
  {
   "cell_type": "code",
   "execution_count": 47,
   "metadata": {},
   "outputs": [],
   "source": [
    "tri_alpha = [a+b+c for a in ascii_uppercase for b in ascii_uppercase for c in ascii_uppercase]\n",
    "tri_alpha_hot = one_hot_encoding(tri_alpha)"
   ]
  },
  {
   "cell_type": "code",
   "execution_count": 92,
   "metadata": {},
   "outputs": [
    {
     "name": "stdout",
     "output_type": "stream",
     "text": [
      "['Start with A', 'Start with B', 'Start with C', 'Start with D', 'Start with E', 'Start with F', 'Start with G', 'Start with H', 'Start with I', 'Start with J', 'Start with K', 'Start with L', 'Start with M', 'Start with N', 'Start with O', 'Start with P', 'Start with Q', 'Start with R', 'Start with S', 'Start with T', 'Start with U', 'Start with V', 'Start with W', 'Start with X', 'Start with Y', 'Start with Z', '2nd Character A', '2nd Character B', '2nd Character C', '2nd Character D', '2nd Character E', '2nd Character F', '2nd Character G', '2nd Character H', '2nd Character I', '2nd Character J', '2nd Character K', '2nd Character L', '2nd Character M', '2nd Character N', '2nd Character O', '2nd Character P', '2nd Character Q', '2nd Character R', '2nd Character S', '2nd Character T', '2nd Character U', '2nd Character V', '2nd Character W', '2nd Character X', '2nd Character Y', '2nd Character Z', '2nd Character from last A', '2nd Character from last B', '2nd Character from last C', '2nd Character from last D', '2nd Character from last E', '2nd Character from last F', '2nd Character from last G', '2nd Character from last H', '2nd Character from last I', '2nd Character from last J', '2nd Character from last K', '2nd Character from last L', '2nd Character from last M', '2nd Character from last N', '2nd Character from last O', '2nd Character from last P', '2nd Character from last Q', '2nd Character from last R', '2nd Character from last S', '2nd Character from last T', '2nd Character from last U', '2nd Character from last V', '2nd Character from last W', '2nd Character from last X', '2nd Character from last Y', '2nd Character from last Z', 'Ends with A', 'Ends with B', 'Ends with C', 'Ends with D', 'Ends with E', 'Ends with F', 'Ends with G', 'Ends with H', 'Ends with I', 'Ends with J', 'Ends with K', 'Ends with L', 'Ends with M', 'Ends with N', 'Ends with O', 'Ends with P', 'Ends with Q', 'Ends with R', 'Ends with S', 'Ends with T', 'Ends with U', 'Ends with V', 'Ends with W', 'Ends with X', 'Ends with Y', 'Ends with Z', 'Freqency of A', 'Freqency of B', 'Freqency of C', 'Freqency of D', 'Freqency of E', 'Freqency of F', 'Freqency of G', 'Freqency of H', 'Freqency of I', 'Freqency of J', 'Freqency of K', 'Freqency of L', 'Freqency of M', 'Freqency of N', 'Freqency of O', 'Freqency of P', 'Freqency of Q', 'Freqency of R', 'Freqency of S', 'Freqency of T', 'Freqency of U', 'Freqency of V', 'Freqency of W', 'Freqency of X', 'Freqency of Y', 'Freqency of Z', 'Contains AA', 'Contains AB', 'Contains AC', 'Contains AD', 'Contains AE', 'Contains AF', 'Contains AG', 'Contains AH', 'Contains AI', 'Contains AJ', 'Contains AK', 'Contains AL', 'Contains AM', 'Contains AN', 'Contains AO', 'Contains AP', 'Contains AQ', 'Contains AR', 'Contains AS', 'Contains AT', 'Contains AU', 'Contains AV', 'Contains AW', 'Contains AX', 'Contains AY', 'Contains AZ', 'Contains BA', 'Contains BB', 'Contains BC', 'Contains BD', 'Contains BE', 'Contains BF', 'Contains BG', 'Contains BH', 'Contains BI', 'Contains BJ', 'Contains BK', 'Contains BL', 'Contains BM', 'Contains BN', 'Contains BO', 'Contains BP', 'Contains BQ', 'Contains BR', 'Contains BS', 'Contains BT', 'Contains BU', 'Contains BV', 'Contains BW', 'Contains BX', 'Contains BY', 'Contains BZ', 'Contains CA', 'Contains CB', 'Contains CC', 'Contains CD', 'Contains CE', 'Contains CF', 'Contains CG', 'Contains CH', 'Contains CI', 'Contains CJ', 'Contains CK', 'Contains CL', 'Contains CM', 'Contains CN', 'Contains CO', 'Contains CP', 'Contains CQ', 'Contains CR', 'Contains CS', 'Contains CT', 'Contains CU', 'Contains CV', 'Contains CW', 'Contains CX', 'Contains CY', 'Contains CZ', 'Contains DA', 'Contains DB', 'Contains DC', 'Contains DD', 'Contains DE', 'Contains DF', 'Contains DG', 'Contains DH', 'Contains DI', 'Contains DJ', 'Contains DK', 'Contains DL', 'Contains DM', 'Contains DN', 'Contains DO', 'Contains DP', 'Contains DQ', 'Contains DR', 'Contains DS', 'Contains DT', 'Contains DU', 'Contains DV', 'Contains DW', 'Contains DX', 'Contains DY', 'Contains DZ', 'Contains EA', 'Contains EB', 'Contains EC', 'Contains ED', 'Contains EE', 'Contains EF', 'Contains EG', 'Contains EH', 'Contains EI', 'Contains EJ', 'Contains EK', 'Contains EL', 'Contains EM', 'Contains EN', 'Contains EO', 'Contains EP', 'Contains EQ', 'Contains ER', 'Contains ES', 'Contains ET', 'Contains EU', 'Contains EV', 'Contains EW', 'Contains EX', 'Contains EY', 'Contains EZ', 'Contains FA', 'Contains FB', 'Contains FC', 'Contains FD', 'Contains FE', 'Contains FF', 'Contains FG', 'Contains FH', 'Contains FI', 'Contains FJ', 'Contains FK', 'Contains FL', 'Contains FM', 'Contains FN', 'Contains FO', 'Contains FP', 'Contains FQ', 'Contains FR', 'Contains FS', 'Contains FT', 'Contains FU', 'Contains FV', 'Contains FW', 'Contains FX', 'Contains FY', 'Contains FZ', 'Contains GA', 'Contains GB', 'Contains GC', 'Contains GD', 'Contains GE', 'Contains GF', 'Contains GG', 'Contains GH', 'Contains GI', 'Contains GJ', 'Contains GK', 'Contains GL', 'Contains GM', 'Contains GN', 'Contains GO', 'Contains GP', 'Contains GQ', 'Contains GR', 'Contains GS', 'Contains GT', 'Contains GU', 'Contains GV', 'Contains GW', 'Contains GX', 'Contains GY', 'Contains GZ', 'Contains HA', 'Contains HB', 'Contains HC', 'Contains HD', 'Contains HE', 'Contains HF', 'Contains HG', 'Contains HH', 'Contains HI', 'Contains HJ', 'Contains HK', 'Contains HL', 'Contains HM', 'Contains HN', 'Contains HO', 'Contains HP', 'Contains HQ', 'Contains HR', 'Contains HS', 'Contains HT', 'Contains HU', 'Contains HV', 'Contains HW', 'Contains HX', 'Contains HY', 'Contains HZ', 'Contains IA', 'Contains IB', 'Contains IC', 'Contains ID', 'Contains IE', 'Contains IF', 'Contains IG', 'Contains IH', 'Contains II', 'Contains IJ', 'Contains IK', 'Contains IL', 'Contains IM', 'Contains IN', 'Contains IO', 'Contains IP', 'Contains IQ', 'Contains IR', 'Contains IS', 'Contains IT', 'Contains IU', 'Contains IV', 'Contains IW', 'Contains IX', 'Contains IY', 'Contains IZ', 'Contains JA', 'Contains JB', 'Contains JC', 'Contains JD', 'Contains JE', 'Contains JF', 'Contains JG', 'Contains JH', 'Contains JI', 'Contains JJ', 'Contains JK', 'Contains JL', 'Contains JM', 'Contains JN', 'Contains JO', 'Contains JP', 'Contains JQ', 'Contains JR', 'Contains JS', 'Contains JT', 'Contains JU', 'Contains JV', 'Contains JW', 'Contains JX', 'Contains JY', 'Contains JZ', 'Contains KA', 'Contains KB', 'Contains KC', 'Contains KD', 'Contains KE', 'Contains KF', 'Contains KG', 'Contains KH', 'Contains KI', 'Contains KJ', 'Contains KK', 'Contains KL', 'Contains KM', 'Contains KN', 'Contains KO', 'Contains KP', 'Contains KQ', 'Contains KR', 'Contains KS', 'Contains KT', 'Contains KU', 'Contains KV', 'Contains KW', 'Contains KX', 'Contains KY', 'Contains KZ', 'Contains LA', 'Contains LB', 'Contains LC', 'Contains LD', 'Contains LE', 'Contains LF', 'Contains LG', 'Contains LH', 'Contains LI', 'Contains LJ', 'Contains LK', 'Contains LL', 'Contains LM', 'Contains LN', 'Contains LO', 'Contains LP', 'Contains LQ', 'Contains LR', 'Contains LS', 'Contains LT', 'Contains LU', 'Contains LV', 'Contains LW', 'Contains LX', 'Contains LY', 'Contains LZ', 'Contains MA', 'Contains MB', 'Contains MC', 'Contains MD', 'Contains ME', 'Contains MF', 'Contains MG', 'Contains MH', 'Contains MI', 'Contains MJ', 'Contains MK', 'Contains ML', 'Contains MM', 'Contains MN', 'Contains MO', 'Contains MP', 'Contains MQ', 'Contains MR', 'Contains MS', 'Contains MT', 'Contains MU', 'Contains MV', 'Contains MW', 'Contains MX', 'Contains MY', 'Contains MZ', 'Contains NA', 'Contains NB', 'Contains NC', 'Contains ND', 'Contains NE', 'Contains NF', 'Contains NG', 'Contains NH', 'Contains NI', 'Contains NJ', 'Contains NK', 'Contains NL', 'Contains NM', 'Contains NN', 'Contains NO', 'Contains NP', 'Contains NQ', 'Contains NR', 'Contains NS', 'Contains NT', 'Contains NU', 'Contains NV', 'Contains NW', 'Contains NX', 'Contains NY', 'Contains NZ', 'Contains OA', 'Contains OB', 'Contains OC', 'Contains OD', 'Contains OE', 'Contains OF', 'Contains OG', 'Contains OH', 'Contains OI', 'Contains OJ', 'Contains OK', 'Contains OL', 'Contains OM', 'Contains ON', 'Contains OO', 'Contains OP', 'Contains OQ', 'Contains OR', 'Contains OS', 'Contains OT', 'Contains OU', 'Contains OV', 'Contains OW', 'Contains OX', 'Contains OY', 'Contains OZ', 'Contains PA', 'Contains PB', 'Contains PC', 'Contains PD', 'Contains PE', 'Contains PF', 'Contains PG', 'Contains PH', 'Contains PI', 'Contains PJ', 'Contains PK', 'Contains PL', 'Contains PM', 'Contains PN', 'Contains PO', 'Contains PP', 'Contains PQ', 'Contains PR', 'Contains PS', 'Contains PT', 'Contains PU', 'Contains PV', 'Contains PW', 'Contains PX', 'Contains PY', 'Contains PZ', 'Contains QA', 'Contains QB', 'Contains QC', 'Contains QD', 'Contains QE', 'Contains QF', 'Contains QG', 'Contains QH', 'Contains QI', 'Contains QJ', 'Contains QK', 'Contains QL', 'Contains QM', 'Contains QN', 'Contains QO', 'Contains QP', 'Contains QQ', 'Contains QR', 'Contains QS', 'Contains QT', 'Contains QU', 'Contains QV', 'Contains QW', 'Contains QX', 'Contains QY', 'Contains QZ', 'Contains RA', 'Contains RB', 'Contains RC', 'Contains RD', 'Contains RE', 'Contains RF', 'Contains RG', 'Contains RH', 'Contains RI', 'Contains RJ', 'Contains RK', 'Contains RL', 'Contains RM', 'Contains RN', 'Contains RO', 'Contains RP', 'Contains RQ', 'Contains RR', 'Contains RS', 'Contains RT', 'Contains RU', 'Contains RV', 'Contains RW', 'Contains RX', 'Contains RY', 'Contains RZ', 'Contains SA', 'Contains SB', 'Contains SC', 'Contains SD', 'Contains SE', 'Contains SF', 'Contains SG', 'Contains SH', 'Contains SI', 'Contains SJ', 'Contains SK', 'Contains SL', 'Contains SM', 'Contains SN', 'Contains SO', 'Contains SP', 'Contains SQ', 'Contains SR', 'Contains SS', 'Contains ST', 'Contains SU', 'Contains SV', 'Contains SW', 'Contains SX', 'Contains SY', 'Contains SZ', 'Contains TA', 'Contains TB', 'Contains TC', 'Contains TD', 'Contains TE', 'Contains TF', 'Contains TG', 'Contains TH', 'Contains TI', 'Contains TJ', 'Contains TK', 'Contains TL', 'Contains TM', 'Contains TN', 'Contains TO', 'Contains TP', 'Contains TQ', 'Contains TR', 'Contains TS', 'Contains TT', 'Contains TU', 'Contains TV', 'Contains TW', 'Contains TX', 'Contains TY', 'Contains TZ', 'Contains UA', 'Contains UB', 'Contains UC', 'Contains UD', 'Contains UE', 'Contains UF', 'Contains UG', 'Contains UH', 'Contains UI', 'Contains UJ', 'Contains UK', 'Contains UL', 'Contains UM', 'Contains UN', 'Contains UO', 'Contains UP', 'Contains UQ', 'Contains UR', 'Contains US', 'Contains UT', 'Contains UU', 'Contains UV', 'Contains UW', 'Contains UX', 'Contains UY', 'Contains UZ', 'Contains VA', 'Contains VB', 'Contains VC', 'Contains VD', 'Contains VE', 'Contains VF', 'Contains VG', 'Contains VH', 'Contains VI', 'Contains VJ', 'Contains VK', 'Contains VL', 'Contains VM', 'Contains VN', 'Contains VO', 'Contains VP', 'Contains VQ', 'Contains VR', 'Contains VS', 'Contains VT', 'Contains VU', 'Contains VV', 'Contains VW', 'Contains VX', 'Contains VY', 'Contains VZ', 'Contains WA', 'Contains WB', 'Contains WC', 'Contains WD', 'Contains WE', 'Contains WF', 'Contains WG', 'Contains WH', 'Contains WI', 'Contains WJ', 'Contains WK', 'Contains WL', 'Contains WM', 'Contains WN', 'Contains WO', 'Contains WP', 'Contains WQ', 'Contains WR', 'Contains WS', 'Contains WT', 'Contains WU', 'Contains WV', 'Contains WW', 'Contains WX', 'Contains WY', 'Contains WZ', 'Contains XA', 'Contains XB', 'Contains XC', 'Contains XD', 'Contains XE', 'Contains XF', 'Contains XG', 'Contains XH', 'Contains XI', 'Contains XJ', 'Contains XK', 'Contains XL', 'Contains XM', 'Contains XN', 'Contains XO', 'Contains XP', 'Contains XQ', 'Contains XR', 'Contains XS', 'Contains XT', 'Contains XU', 'Contains XV', 'Contains XW', 'Contains XX', 'Contains XY', 'Contains XZ', 'Contains YA', 'Contains YB', 'Contains YC', 'Contains YD', 'Contains YE', 'Contains YF', 'Contains YG', 'Contains YH', 'Contains YI', 'Contains YJ', 'Contains YK', 'Contains YL', 'Contains YM', 'Contains YN', 'Contains YO', 'Contains YP', 'Contains YQ', 'Contains YR', 'Contains YS', 'Contains YT', 'Contains YU', 'Contains YV', 'Contains YW', 'Contains YX', 'Contains YY', 'Contains YZ', 'Contains ZA', 'Contains ZB', 'Contains ZC', 'Contains ZD', 'Contains ZE', 'Contains ZF', 'Contains ZG', 'Contains ZH', 'Contains ZI', 'Contains ZJ', 'Contains ZK', 'Contains ZL', 'Contains ZM', 'Contains ZN', 'Contains ZO', 'Contains ZP', 'Contains ZQ', 'Contains ZR', 'Contains ZS', 'Contains ZT', 'Contains ZU', 'Contains ZV', 'Contains ZW', 'Contains ZX', 'Contains ZY', 'Contains ZZ']\n"
     ]
    }
   ],
   "source": [
    "feature_name = []\n",
    "feature_name.extend(['Start with '+a for a in mono_alpha_hot.keys()])\n",
    "feature_name.extend( ['2nd Character '+ a for a in  mono_alpha_hot.keys()] )\n",
    "feature_name.extend( ['2nd Character from last '+ a for a in  mono_alpha_hot.keys()] )\n",
    "feature_name.extend( ['Ends with '+ a for a in  mono_alpha_hot.keys()] )\n",
    "feature_name.extend( ['Freqency of '+ a for a in ascii_uppercase] )\n",
    "feature_name.extend( ['Contains '+ a for a in list(bi_alpha)] )\n",
    "print(feature_name)"
   ]
  },
  {
   "cell_type": "code",
   "execution_count": 74,
   "metadata": {},
   "outputs": [],
   "source": [
    "def get_feature(name,gender):\n",
    "    feature = []\n",
    "    name = name.strip()\n",
    "    \n",
    "    feature.extend(mono_alpha_hot[name[0]])\n",
    "    feature.extend(mono_alpha_hot[name[1]])\n",
    "    feature.extend(mono_alpha_hot[name[-2]])\n",
    "    feature.extend(mono_alpha_hot[name[-1]])\n",
    "    \n",
    "    frequency = {key: 0 for key in list(ascii_uppercase)}\n",
    "    updates = dict(collections.Counter(name))\n",
    "    frequency.update(updates)\n",
    "    feature.extend(frequency.values())\n",
    "    #print(\"Feature:\",feature)\n",
    "    \n",
    "    frequency = {key: 0 for key in bi_alpha}\n",
    "    updates = dict(collections.Counter(zip(name,name[1:])))\n",
    "    #print(\"update:\",updates)\n",
    "    updates = {(A+B):n for (A,B),n in zip(updates.keys(),updates.values())}\n",
    "    #print(\"update:\",updates.keys())\n",
    "    frequency.update(updates)\n",
    "    #print(\"update:\",frequency)\n",
    "    feature.extend(frequency.values())\n",
    "    #print(\"feature:\",feature)\n",
    "    \n",
    "    if(gender == 'M'):\n",
    "        classification = 0\n",
    "    else:\n",
    "        classification = 1\n",
    "    \n",
    "    return (feature,classification)\n",
    "        \n",
    "    "
   ]
  },
  {
   "cell_type": "code",
   "execution_count": 75,
   "metadata": {
    "scrolled": true
   },
   "outputs": [],
   "source": [
    "feature_list = [get_feature(name,gender) for name,gender in all_names]\n",
    "random.shuffle(feature_list)"
   ]
  },
  {
   "cell_type": "code",
   "execution_count": 81,
   "metadata": {},
   "outputs": [
    {
     "name": "stdout",
     "output_type": "stream",
     "text": [
      "(1904, 806)\n",
      "(6000,)\n"
     ]
    }
   ],
   "source": [
    "train = feature_list[:6000]\n",
    "test = feature_list[6000:]\n",
    "\n",
    "x_train, y_train = zip(*train)\n",
    "x_test, y_test = zip(*test)\n",
    "#print(y_train)\n",
    "print(numpy.array(x_test).shape)\n",
    "print(numpy.array(y_train).shape)\n",
    "\n"
   ]
  },
  {
   "cell_type": "code",
   "execution_count": 82,
   "metadata": {},
   "outputs": [
    {
     "data": {
      "text/plain": [
       "RandomForestClassifier(bootstrap=True, class_weight=None, criterion='gini',\n",
       "            max_depth=None, max_features='auto', max_leaf_nodes=None,\n",
       "            min_impurity_decrease=0.0, min_impurity_split=None,\n",
       "            min_samples_leaf=1, min_samples_split=20,\n",
       "            min_weight_fraction_leaf=0.0, n_estimators=150, n_jobs=1,\n",
       "            oob_score=False, random_state=None, verbose=0,\n",
       "            warm_start=False)"
      ]
     },
     "execution_count": 82,
     "metadata": {},
     "output_type": "execute_result"
    }
   ],
   "source": [
    "classifier = RandomForestClassifier(n_estimators=150, min_samples_split=20)\n",
    "classifier.fit(x_train,y_train)"
   ]
  },
  {
   "cell_type": "code",
   "execution_count": 83,
   "metadata": {},
   "outputs": [],
   "source": [
    "y_pred = []\n",
    "\n",
    "for i in range(0,len(x_test)):\n",
    "    y_pred.extend(classifier.predict(numpy.array(x_test[i]).reshape(1,-1)))\n"
   ]
  },
  {
   "cell_type": "code",
   "execution_count": 96,
   "metadata": {
    "scrolled": true
   },
   "outputs": [
    {
     "name": "stdout",
     "output_type": "stream",
     "text": [
      "0.8371848739495799\n"
     ]
    }
   ],
   "source": [
    "# print(numpy.array(x_test[1]).reshape(1,-1))\n",
    "# print(\"Prdicted:\",y_pred)\n",
    "# print(\"Y test\",y_test)\n",
    "# print(x_test)\n",
    "print(accuracy_score(y_test, y_pred))"
   ]
  },
  {
   "cell_type": "code",
   "execution_count": 102,
   "metadata": {},
   "outputs": [
    {
     "name": "stdout",
     "output_type": "stream",
     "text": [
      "Most Important Features : \n"
     ]
    },
    {
     "data": {
      "text/plain": [
       "[('Ends with A', 0.10513883832604982),\n",
       " ('Freqency of A', 0.026461699607904312),\n",
       " ('Ends with D', 0.02265644420881819),\n",
       " ('Ends with E', 0.021285042463551188),\n",
       " ('2nd Character from last O', 0.020811534160498735),\n",
       " ('Ends with R', 0.016314166600900563),\n",
       " ('Freqency of E', 0.014548614955857726),\n",
       " ('Ends with O', 0.014061409566110678),\n",
       " ('Freqency of I', 0.01394933928285662),\n",
       " ('Ends with I', 0.012523178355017232)]"
      ]
     },
     "execution_count": 102,
     "metadata": {},
     "output_type": "execute_result"
    }
   ],
   "source": [
    "important_features = sorted(enumerate(classifier.feature_importances_), key=lambda x : x[1], reverse=True)\n",
    "# print(important_features)\n",
    "print (\"Most Important Features : \")\n",
    "[(feature_name[idx],prob) for idx, prob in important_features][:10]"
   ]
  },
  {
   "cell_type": "code",
   "execution_count": 109,
   "metadata": {},
   "outputs": [
    {
     "name": "stdout",
     "output_type": "stream",
     "text": [
      "0.8740861088545897\n",
      "0.8218870365966856\n",
      "0.827488651699178\n",
      "0.8174906751922052\n"
     ]
    }
   ],
   "source": [
    "from sklearn.metrics import accuracy_score, f1_score, precision_score, recall_score, classification_report, confusion_matrix\n",
    "print(f1_score(y_test,y_pred))\n",
    "print(f1_score(y_test, y_pred, average=\"macro\"))\n",
    "print(precision_score(y_test, y_pred, average=\"macro\"))\n",
    "print(recall_score(y_test, y_pred, average=\"macro\"))    "
   ]
  },
  {
   "cell_type": "code",
   "execution_count": null,
   "metadata": {},
   "outputs": [],
   "source": []
  }
 ],
 "metadata": {
  "kernelspec": {
   "display_name": "Python 3",
   "language": "python",
   "name": "python3"
  },
  "language_info": {
   "codemirror_mode": {
    "name": "ipython",
    "version": 3
   },
   "file_extension": ".py",
   "mimetype": "text/x-python",
   "name": "python",
   "nbconvert_exporter": "python",
   "pygments_lexer": "ipython3",
   "version": "3.6.5"
  }
 },
 "nbformat": 4,
 "nbformat_minor": 2
}

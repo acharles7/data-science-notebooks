{
 "cells": [
  {
   "cell_type": "code",
   "execution_count": 68,
   "metadata": {},
   "outputs": [],
   "source": [
    "import pandas as pd\n",
    "import seaborn as sns\n",
    "import matplotlib.pyplot as plt\n",
    "from scipy.stats import pearsonr\n",
    "from scipy.stats import spearmanr"
   ]
  },
  {
   "cell_type": "markdown",
   "metadata": {},
   "source": [
    "### Correlation between features\n",
    "Check out this blog on correlation b/w data\n",
    "[Relationship aka Correlation between Data](https://medium.com/@charlespatel/relationship-aka-correlation-between-features-e1fbc244694e)"
   ]
  },
  {
   "cell_type": "code",
   "execution_count": 69,
   "metadata": {},
   "outputs": [
    {
     "data": {
      "text/html": [
       "<div>\n",
       "<style scoped>\n",
       "    .dataframe tbody tr th:only-of-type {\n",
       "        vertical-align: middle;\n",
       "    }\n",
       "\n",
       "    .dataframe tbody tr th {\n",
       "        vertical-align: top;\n",
       "    }\n",
       "\n",
       "    .dataframe thead th {\n",
       "        text-align: right;\n",
       "    }\n",
       "</style>\n",
       "<table border=\"1\" class=\"dataframe\">\n",
       "  <thead>\n",
       "    <tr style=\"text-align: right;\">\n",
       "      <th></th>\n",
       "      <th>feature1</th>\n",
       "      <th>feature2</th>\n",
       "      <th>feature3</th>\n",
       "      <th>feature4</th>\n",
       "      <th>feature5</th>\n",
       "      <th>feature6</th>\n",
       "      <th>feature7</th>\n",
       "      <th>feature8</th>\n",
       "      <th>feature9</th>\n",
       "      <th>feature10</th>\n",
       "      <th>feature11</th>\n",
       "      <th>feature12</th>\n",
       "    </tr>\n",
       "  </thead>\n",
       "  <tbody>\n",
       "    <tr>\n",
       "      <th>0</th>\n",
       "      <td>17.99</td>\n",
       "      <td>10.38</td>\n",
       "      <td>122.80</td>\n",
       "      <td>1001.0</td>\n",
       "      <td>0.11840</td>\n",
       "      <td>0.14710</td>\n",
       "      <td>0.2419</td>\n",
       "      <td>0.07871</td>\n",
       "      <td>1.0950</td>\n",
       "      <td>0.9053</td>\n",
       "      <td>8.589</td>\n",
       "      <td>153.40</td>\n",
       "    </tr>\n",
       "    <tr>\n",
       "      <th>1</th>\n",
       "      <td>20.57</td>\n",
       "      <td>17.77</td>\n",
       "      <td>132.90</td>\n",
       "      <td>1326.0</td>\n",
       "      <td>0.08474</td>\n",
       "      <td>0.07017</td>\n",
       "      <td>0.1812</td>\n",
       "      <td>0.05667</td>\n",
       "      <td>0.5435</td>\n",
       "      <td>0.7339</td>\n",
       "      <td>3.398</td>\n",
       "      <td>74.08</td>\n",
       "    </tr>\n",
       "    <tr>\n",
       "      <th>2</th>\n",
       "      <td>19.69</td>\n",
       "      <td>21.25</td>\n",
       "      <td>130.00</td>\n",
       "      <td>1203.0</td>\n",
       "      <td>0.10960</td>\n",
       "      <td>0.12790</td>\n",
       "      <td>0.2069</td>\n",
       "      <td>0.05999</td>\n",
       "      <td>0.7456</td>\n",
       "      <td>0.7869</td>\n",
       "      <td>4.585</td>\n",
       "      <td>94.03</td>\n",
       "    </tr>\n",
       "    <tr>\n",
       "      <th>3</th>\n",
       "      <td>11.42</td>\n",
       "      <td>20.38</td>\n",
       "      <td>77.58</td>\n",
       "      <td>386.1</td>\n",
       "      <td>0.14250</td>\n",
       "      <td>0.10520</td>\n",
       "      <td>0.2597</td>\n",
       "      <td>0.09744</td>\n",
       "      <td>0.4956</td>\n",
       "      <td>1.1560</td>\n",
       "      <td>3.445</td>\n",
       "      <td>27.23</td>\n",
       "    </tr>\n",
       "    <tr>\n",
       "      <th>4</th>\n",
       "      <td>20.29</td>\n",
       "      <td>14.34</td>\n",
       "      <td>135.10</td>\n",
       "      <td>1297.0</td>\n",
       "      <td>0.10030</td>\n",
       "      <td>0.10430</td>\n",
       "      <td>0.1809</td>\n",
       "      <td>0.05883</td>\n",
       "      <td>0.7572</td>\n",
       "      <td>0.7813</td>\n",
       "      <td>5.438</td>\n",
       "      <td>94.44</td>\n",
       "    </tr>\n",
       "  </tbody>\n",
       "</table>\n",
       "</div>"
      ],
      "text/plain": [
       "   feature1  feature2  feature3  feature4  feature5  feature6  feature7  \\\n",
       "0     17.99     10.38    122.80    1001.0   0.11840   0.14710    0.2419   \n",
       "1     20.57     17.77    132.90    1326.0   0.08474   0.07017    0.1812   \n",
       "2     19.69     21.25    130.00    1203.0   0.10960   0.12790    0.2069   \n",
       "3     11.42     20.38     77.58     386.1   0.14250   0.10520    0.2597   \n",
       "4     20.29     14.34    135.10    1297.0   0.10030   0.10430    0.1809   \n",
       "\n",
       "   feature8  feature9  feature10  feature11  feature12  \n",
       "0   0.07871    1.0950     0.9053      8.589     153.40  \n",
       "1   0.05667    0.5435     0.7339      3.398      74.08  \n",
       "2   0.05999    0.7456     0.7869      4.585      94.03  \n",
       "3   0.09744    0.4956     1.1560      3.445      27.23  \n",
       "4   0.05883    0.7572     0.7813      5.438      94.44  "
      ]
     },
     "execution_count": 69,
     "metadata": {},
     "output_type": "execute_result"
    }
   ],
   "source": [
    "data = pd.read_csv('corr.csv')\n",
    "data.head()"
   ]
  },
  {
   "cell_type": "markdown",
   "metadata": {},
   "source": [
    "```\n",
    "The basic statistics you should know about the feature:\n",
    "\n",
    "1. Nature of feature, continuous or categorical etc?\n",
    "2. Distribution of feature, normally distributed, binomially distributed, left or right skewed?\n",
    "```"
   ]
  },
  {
   "cell_type": "markdown",
   "metadata": {},
   "source": [
    "### Covariance"
   ]
  },
  {
   "cell_type": "code",
   "execution_count": 70,
   "metadata": {},
   "outputs": [
    {
     "data": {
      "text/html": [
       "<div>\n",
       "<style scoped>\n",
       "    .dataframe tbody tr th:only-of-type {\n",
       "        vertical-align: middle;\n",
       "    }\n",
       "\n",
       "    .dataframe tbody tr th {\n",
       "        vertical-align: top;\n",
       "    }\n",
       "\n",
       "    .dataframe thead th {\n",
       "        text-align: right;\n",
       "    }\n",
       "</style>\n",
       "<table border=\"1\" class=\"dataframe\">\n",
       "  <thead>\n",
       "    <tr style=\"text-align: right;\">\n",
       "      <th></th>\n",
       "      <th>feature1</th>\n",
       "      <th>feature2</th>\n",
       "      <th>feature3</th>\n",
       "      <th>feature4</th>\n",
       "      <th>feature5</th>\n",
       "      <th>feature6</th>\n",
       "      <th>feature7</th>\n",
       "      <th>feature8</th>\n",
       "      <th>feature9</th>\n",
       "      <th>feature10</th>\n",
       "      <th>feature11</th>\n",
       "      <th>feature12</th>\n",
       "    </tr>\n",
       "  </thead>\n",
       "  <tbody>\n",
       "    <tr>\n",
       "      <th>feature1</th>\n",
       "      <td>9.069593</td>\n",
       "      <td>2.211746</td>\n",
       "      <td>61.280900</td>\n",
       "      <td>880.274688</td>\n",
       "      <td>-0.009703</td>\n",
       "      <td>0.059253</td>\n",
       "      <td>0.001712</td>\n",
       "      <td>-0.010518</td>\n",
       "      <td>0.548742</td>\n",
       "      <td>0.117891</td>\n",
       "      <td>4.156941</td>\n",
       "      <td>85.635383</td>\n",
       "    </tr>\n",
       "    <tr>\n",
       "      <th>feature2</th>\n",
       "      <td>2.211746</td>\n",
       "      <td>14.655304</td>\n",
       "      <td>15.327180</td>\n",
       "      <td>191.593487</td>\n",
       "      <td>-0.005494</td>\n",
       "      <td>0.006783</td>\n",
       "      <td>-0.005383</td>\n",
       "      <td>-0.003634</td>\n",
       "      <td>0.093955</td>\n",
       "      <td>0.739157</td>\n",
       "      <td>0.979841</td>\n",
       "      <td>7.533564</td>\n",
       "    </tr>\n",
       "    <tr>\n",
       "      <th>feature3</th>\n",
       "      <td>61.280900</td>\n",
       "      <td>15.327180</td>\n",
       "      <td>417.649710</td>\n",
       "      <td>5928.489694</td>\n",
       "      <td>-0.049956</td>\n",
       "      <td>0.439834</td>\n",
       "      <td>0.056868</td>\n",
       "      <td>-0.058076</td>\n",
       "      <td>3.815620</td>\n",
       "      <td>0.992230</td>\n",
       "      <td>29.638063</td>\n",
       "      <td>591.727699</td>\n",
       "    </tr>\n",
       "    <tr>\n",
       "      <th>feature4</th>\n",
       "      <td>880.274688</td>\n",
       "      <td>191.593487</td>\n",
       "      <td>5928.489694</td>\n",
       "      <td>86739.146322</td>\n",
       "      <td>-1.020625</td>\n",
       "      <td>5.569580</td>\n",
       "      <td>-0.140496</td>\n",
       "      <td>-1.068464</td>\n",
       "      <td>53.561144</td>\n",
       "      <td>10.251260</td>\n",
       "      <td>402.048547</td>\n",
       "      <td>8462.412940</td>\n",
       "    </tr>\n",
       "    <tr>\n",
       "      <th>feature5</th>\n",
       "      <td>-0.009703</td>\n",
       "      <td>-0.005494</td>\n",
       "      <td>-0.049956</td>\n",
       "      <td>-1.020625</td>\n",
       "      <td>0.000170</td>\n",
       "      <td>0.000216</td>\n",
       "      <td>0.000259</td>\n",
       "      <td>0.000092</td>\n",
       "      <td>0.000142</td>\n",
       "      <td>-0.000583</td>\n",
       "      <td>0.000544</td>\n",
       "      <td>-0.012148</td>\n",
       "    </tr>\n",
       "    <tr>\n",
       "      <th>feature6</th>\n",
       "      <td>0.059253</td>\n",
       "      <td>0.006783</td>\n",
       "      <td>0.439834</td>\n",
       "      <td>5.569580</td>\n",
       "      <td>0.000216</td>\n",
       "      <td>0.001043</td>\n",
       "      <td>0.000649</td>\n",
       "      <td>0.000099</td>\n",
       "      <td>0.005274</td>\n",
       "      <td>0.000772</td>\n",
       "      <td>0.042450</td>\n",
       "      <td>0.771185</td>\n",
       "    </tr>\n",
       "    <tr>\n",
       "      <th>feature7</th>\n",
       "      <td>0.001712</td>\n",
       "      <td>-0.005383</td>\n",
       "      <td>0.056868</td>\n",
       "      <td>-0.140496</td>\n",
       "      <td>0.000259</td>\n",
       "      <td>0.000649</td>\n",
       "      <td>0.000941</td>\n",
       "      <td>0.000196</td>\n",
       "      <td>0.002345</td>\n",
       "      <td>0.000617</td>\n",
       "      <td>0.023089</td>\n",
       "      <td>0.247396</td>\n",
       "    </tr>\n",
       "    <tr>\n",
       "      <th>feature8</th>\n",
       "      <td>-0.010518</td>\n",
       "      <td>-0.003634</td>\n",
       "      <td>-0.058076</td>\n",
       "      <td>-1.068464</td>\n",
       "      <td>0.000092</td>\n",
       "      <td>0.000099</td>\n",
       "      <td>0.000196</td>\n",
       "      <td>0.000079</td>\n",
       "      <td>-0.000080</td>\n",
       "      <td>0.000562</td>\n",
       "      <td>0.001222</td>\n",
       "      <td>-0.038354</td>\n",
       "    </tr>\n",
       "    <tr>\n",
       "      <th>feature9</th>\n",
       "      <td>0.548742</td>\n",
       "      <td>0.093955</td>\n",
       "      <td>3.815620</td>\n",
       "      <td>53.561144</td>\n",
       "      <td>0.000142</td>\n",
       "      <td>0.005274</td>\n",
       "      <td>0.002345</td>\n",
       "      <td>-0.000080</td>\n",
       "      <td>0.071642</td>\n",
       "      <td>0.049169</td>\n",
       "      <td>0.548823</td>\n",
       "      <td>9.184101</td>\n",
       "    </tr>\n",
       "    <tr>\n",
       "      <th>feature10</th>\n",
       "      <td>0.117891</td>\n",
       "      <td>0.739157</td>\n",
       "      <td>0.992230</td>\n",
       "      <td>10.251260</td>\n",
       "      <td>-0.000583</td>\n",
       "      <td>0.000772</td>\n",
       "      <td>0.000617</td>\n",
       "      <td>0.000562</td>\n",
       "      <td>0.049169</td>\n",
       "      <td>0.266280</td>\n",
       "      <td>0.566060</td>\n",
       "      <td>5.059823</td>\n",
       "    </tr>\n",
       "    <tr>\n",
       "      <th>feature11</th>\n",
       "      <td>4.156941</td>\n",
       "      <td>0.979841</td>\n",
       "      <td>29.638063</td>\n",
       "      <td>402.048547</td>\n",
       "      <td>0.000544</td>\n",
       "      <td>0.042450</td>\n",
       "      <td>0.023089</td>\n",
       "      <td>0.001222</td>\n",
       "      <td>0.548823</td>\n",
       "      <td>0.566060</td>\n",
       "      <td>4.716161</td>\n",
       "      <td>71.019963</td>\n",
       "    </tr>\n",
       "    <tr>\n",
       "      <th>feature12</th>\n",
       "      <td>85.635383</td>\n",
       "      <td>7.533564</td>\n",
       "      <td>591.727699</td>\n",
       "      <td>8462.412940</td>\n",
       "      <td>-0.012148</td>\n",
       "      <td>0.771185</td>\n",
       "      <td>0.247396</td>\n",
       "      <td>-0.038354</td>\n",
       "      <td>9.184101</td>\n",
       "      <td>5.059823</td>\n",
       "      <td>71.019963</td>\n",
       "      <td>1285.022566</td>\n",
       "    </tr>\n",
       "  </tbody>\n",
       "</table>\n",
       "</div>"
      ],
      "text/plain": [
       "             feature1    feature2     feature3      feature4  feature5  \\\n",
       "feature1     9.069593    2.211746    61.280900    880.274688 -0.009703   \n",
       "feature2     2.211746   14.655304    15.327180    191.593487 -0.005494   \n",
       "feature3    61.280900   15.327180   417.649710   5928.489694 -0.049956   \n",
       "feature4   880.274688  191.593487  5928.489694  86739.146322 -1.020625   \n",
       "feature5    -0.009703   -0.005494    -0.049956     -1.020625  0.000170   \n",
       "feature6     0.059253    0.006783     0.439834      5.569580  0.000216   \n",
       "feature7     0.001712   -0.005383     0.056868     -0.140496  0.000259   \n",
       "feature8    -0.010518   -0.003634    -0.058076     -1.068464  0.000092   \n",
       "feature9     0.548742    0.093955     3.815620     53.561144  0.000142   \n",
       "feature10    0.117891    0.739157     0.992230     10.251260 -0.000583   \n",
       "feature11    4.156941    0.979841    29.638063    402.048547  0.000544   \n",
       "feature12   85.635383    7.533564   591.727699   8462.412940 -0.012148   \n",
       "\n",
       "           feature6  feature7  feature8   feature9  feature10   feature11  \\\n",
       "feature1   0.059253  0.001712 -0.010518   0.548742   0.117891    4.156941   \n",
       "feature2   0.006783 -0.005383 -0.003634   0.093955   0.739157    0.979841   \n",
       "feature3   0.439834  0.056868 -0.058076   3.815620   0.992230   29.638063   \n",
       "feature4   5.569580 -0.140496 -1.068464  53.561144  10.251260  402.048547   \n",
       "feature5   0.000216  0.000259  0.000092   0.000142  -0.000583    0.000544   \n",
       "feature6   0.001043  0.000649  0.000099   0.005274   0.000772    0.042450   \n",
       "feature7   0.000649  0.000941  0.000196   0.002345   0.000617    0.023089   \n",
       "feature8   0.000099  0.000196  0.000079  -0.000080   0.000562    0.001222   \n",
       "feature9   0.005274  0.002345 -0.000080   0.071642   0.049169    0.548823   \n",
       "feature10  0.000772  0.000617  0.000562   0.049169   0.266280    0.566060   \n",
       "feature11  0.042450  0.023089  0.001222   0.548823   0.566060    4.716161   \n",
       "feature12  0.771185  0.247396 -0.038354   9.184101   5.059823   71.019963   \n",
       "\n",
       "             feature12  \n",
       "feature1     85.635383  \n",
       "feature2      7.533564  \n",
       "feature3    591.727699  \n",
       "feature4   8462.412940  \n",
       "feature5     -0.012148  \n",
       "feature6      0.771185  \n",
       "feature7      0.247396  \n",
       "feature8     -0.038354  \n",
       "feature9      9.184101  \n",
       "feature10     5.059823  \n",
       "feature11    71.019963  \n",
       "feature12  1285.022566  "
      ]
     },
     "execution_count": 70,
     "metadata": {},
     "output_type": "execute_result"
    }
   ],
   "source": [
    "data.cov()"
   ]
  },
  {
   "cell_type": "markdown",
   "metadata": {},
   "source": [
    "\n",
    "\n",
    "```\n",
    "if covariance has positive sign, features are changing in the same direction\n",
    "if covariance has negative sign, features are changing in a different direction\n",
    "if covariance is 0, features are completely independent of each other\n",
    "```"
   ]
  },
  {
   "cell_type": "code",
   "execution_count": 71,
   "metadata": {},
   "outputs": [
    {
     "data": {
      "image/png": "[encoded data removed]",
      "text/plain": [
       "<Figure size 720x720 with 2 Axes>"
      ]
     },
     "metadata": {},
     "output_type": "display_data"
    }
   ],
   "source": [
    "corr = data.corr()\n",
    "mask = np.zeros_like(corr)\n",
    "mask[np.triu_indices_from(mask)] = True\n",
    "with sns.axes_style(\"white\"):\n",
    "    f, ax = plt.subplots(figsize=(10, 10))\n",
    "    ax = sns.heatmap(corr, mask=mask, vmax=.3, square=True, annot=True, linewidths=.5, fmt= '.1f',ax=ax, cmap=\"YlGnBu\")\n",
    "    "
   ]
  },
  {
   "cell_type": "markdown",
   "metadata": {},
   "source": [
    "```\n",
    "Positive correlation: Two features are directly dependent on each other\n",
    "Negative correlation: Two features are inversly dependent on each other\n",
    "Neutral  correlation: Two features are   not    dependent on each other\n",
    "```"
   ]
  },
  {
   "cell_type": "code",
   "execution_count": 72,
   "metadata": {},
   "outputs": [
    {
     "data": {
      "text/plain": [
       "[<matplotlib.lines.Line2D at 0x7ffa29e5f710>]"
      ]
     },
     "execution_count": 72,
     "metadata": {},
     "output_type": "execute_result"
    },
    {
     "data": {
      "image/png": "[encoded data removed]",
      "text/plain": [
       "<Figure size 1440x504 with 3 Axes>"
      ]
     },
     "metadata": {
      "needs_background": "light"
     },
     "output_type": "display_data"
    }
   ],
   "source": [
    "fig, (ax1, ax2, ax3) = plt.subplots(1, 3, figsize=(20, 7))\n",
    "fig.suptitle('Types of Correlation')\n",
    "\n",
    "ax1.scatter(data.feature1, data.feature4)\n",
    "m, b = np.polyfit(data.feature1, data.feature4, 1)\n",
    "ax1.plot(data.feature1, m*data.feature1 + b)\n",
    "\n",
    "ax2.scatter(data.feature4, data.feature8)\n",
    "m, b = np.polyfit(data.feature4, data.feature8, 1)\n",
    "ax2.plot(data.feature4, m*data.feature4 + b)\n",
    "\n",
    "ax3.scatter(data.feature8, data.feature9)\n",
    "m, b = np.polyfit(data.feature8, data.feature9, 1)\n",
    "ax3.plot(data.feature8, m*data.feature8 + b)"
   ]
  },
  {
   "cell_type": "code",
   "execution_count": 73,
   "metadata": {},
   "outputs": [],
   "source": [
    "def scatter_plot(x, y):\n",
    "    print(f'featureA: mean: {np.mean(x)} stdv: {np.std(x)}')\n",
    "    print(f'featureB: mean: {np.mean(y)} stdv: {np.std(y)}')\n",
    "    print('covariance', np.cov(x, y))\n",
    "    corr, _ = pearsonr(x, y)\n",
    "    print('pearsons correlation: %.3f' % corr)\n",
    "\n",
    "    plt.scatter(x, y)\n",
    "    plt.show()"
   ]
  },
  {
   "cell_type": "markdown",
   "metadata": {},
   "source": [
    "### Positive Correlation"
   ]
  },
  {
   "cell_type": "code",
   "execution_count": 74,
   "metadata": {},
   "outputs": [
    {
     "name": "stdout",
     "output_type": "stream",
     "text": [
      "featureA: mean: 15.377199999999998 stdv: 2.981308571751673\n",
      "featureB: mean: 761.998 stdv: 291.5550778086364\n",
      "covariance [[9.06959265e+00 8.80274688e+02]\n",
      " [8.80274688e+02 8.67391463e+04]]\n",
      "pearsons correlation: 0.992\n"
     ]
    },
    {
     "data": {
      "image/png": "[encoded data removed]",
      "text/plain": [
       "<Figure size 432x288 with 1 Axes>"
      ]
     },
     "metadata": {
      "needs_background": "light"
     },
     "output_type": "display_data"
    }
   ],
   "source": [
    "scatter_plot(data.feature1, data.feature4)  # Positive"
   ]
  },
  {
   "cell_type": "markdown",
   "metadata": {},
   "source": [
    "### Negative Correlation"
   ]
  },
  {
   "cell_type": "code",
   "execution_count": 75,
   "metadata": {},
   "outputs": [
    {
     "name": "stdout",
     "output_type": "stream",
     "text": [
      "featureA: mean: 761.998 stdv: 291.5550778086364\n",
      "featureB: mean: 0.0652736 stdv: 0.008818937976876808\n",
      "covariance [[ 8.67391463e+04 -1.06846432e+00]\n",
      " [-1.06846432e+00  7.93608847e-05]]\n",
      "pearsons correlation: -0.407\n"
     ]
    },
    {
     "data": {
      "image/png": "[encoded data removed]",
      "text/plain": [
       "<Figure size 432x288 with 1 Axes>"
      ]
     },
     "metadata": {
      "needs_background": "light"
     },
     "output_type": "display_data"
    }
   ],
   "source": [
    "scatter_plot(data.feature4, data.feature8)"
   ]
  },
  {
   "cell_type": "markdown",
   "metadata": {},
   "source": [
    "### Neutral  Correlation"
   ]
  },
  {
   "cell_type": "code",
   "execution_count": 76,
   "metadata": {},
   "outputs": [
    {
     "name": "stdout",
     "output_type": "stream",
     "text": [
      "featureA: mean: 0.0652736 stdv: 0.008818937976876808\n",
      "featureB: mean: 3.614820000000001 stdv: 2.149845945085368\n",
      "covariance [[7.93608847e-05 1.22172719e-03]\n",
      " [1.22172719e-03 4.71616080e+00]]\n",
      "pearsons correlation: 0.063\n"
     ]
    },
    {
     "data": {
      "image/png": "[encoded data removed]",
      "text/plain": [
       "<Figure size 432x288 with 1 Axes>"
      ]
     },
     "metadata": {
      "needs_background": "light"
     },
     "output_type": "display_data"
    }
   ],
   "source": [
    "scatter_plot(data.feature8, data.feature11)"
   ]
  },
  {
   "cell_type": "code",
   "execution_count": null,
   "metadata": {},
   "outputs": [],
   "source": []
  }
 ],
 "metadata": {
  "kernelspec": {
   "display_name": "Python 3",
   "language": "python",
   "name": "python3"
  },
  "language_info": {
   "codemirror_mode": {
    "name": "ipython",
    "version": 3
   },
   "file_extension": ".py",
   "mimetype": "text/x-python",
   "name": "python",
   "nbconvert_exporter": "python",
   "pygments_lexer": "ipython3",
   "version": "3.7.0b1"
  }
 },
 "nbformat": 4,
 "nbformat_minor": 2
}
